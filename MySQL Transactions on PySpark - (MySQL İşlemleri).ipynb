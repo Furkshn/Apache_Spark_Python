{
 "cells": [
  {
   "cell_type": "markdown",
   "id": "1da51284-3e7b-4152-afb7-4525d0ce3ca0",
   "metadata": {},
   "source": [
    "# \n",
    "# MySQL Transactions - (MySQL İşlemleri)"
   ]
  },
  {
   "cell_type": "code",
   "execution_count": 16,
   "id": "e732a68a-ecee-4134-9b1b-03bc3025a7d3",
   "metadata": {},
   "outputs": [],
   "source": [
    "import findspark as fs\n",
    "\n",
    "fs.init(\"C:\\spark\")"
   ]
  },
  {
   "cell_type": "markdown",
   "id": "53cd678d-2b66-4de1-b17e-f4837cfc746b",
   "metadata": {},
   "source": [
    "# "
   ]
  },
  {
   "cell_type": "code",
   "execution_count": 17,
   "id": "ee39530a-3a76-432a-bbf7-696aab86621a",
   "metadata": {},
   "outputs": [
    {
     "data": {
      "text/html": [
       "\n",
       "        <div>\n",
       "            <p><b>SparkContext</b></p>\n",
       "\n",
       "            <p><a href=\"http://DESKTOP-HC9DSF0:4041\">Spark UI</a></p>\n",
       "\n",
       "            <dl>\n",
       "              <dt>Version</dt>\n",
       "                <dd><code>v3.1.2</code></dd>\n",
       "              <dt>Master</dt>\n",
       "                <dd><code>local</code></dd>\n",
       "              <dt>AppName</dt>\n",
       "                <dd><code>SQL</code></dd>\n",
       "            </dl>\n",
       "        </div>\n",
       "        "
      ],
      "text/plain": [
       "<SparkContext master=local appName=SQL>"
      ]
     },
     "execution_count": 17,
     "metadata": {},
     "output_type": "execute_result"
    }
   ],
   "source": [
    "import pyspark\n",
    "from pyspark.sql import SparkSession\n",
    "from pyspark.conf import SparkConf\n",
    "from pyspark import SparkContext\n",
    "\n",
    "spark = SparkSession.builder.master(\"local\").appName(\"SQL\").config(\"spark.executer.memory\",\"16gb\").getOrCreate()\n",
    "\n",
    "spark_context = spark.sparkContext\n",
    "\n",
    "spark_context"
   ]
  },
  {
   "cell_type": "code",
   "execution_count": 18,
   "id": "4d58c43a-c2cf-4f8b-ab0e-23d46d2c7c87",
   "metadata": {},
   "outputs": [
    {
     "data": {
      "text/plain": [
       "DataFrame[fixed acidity: double, volatile acidity: double, citric acid: double, residual sugar: double, chlorides: double, free sulfur dioxide: double, total sulfur dioxide: double, density: double, pH: double, sulphates: double, alcohol: double, quality: int]"
      ]
     },
     "execution_count": 18,
     "metadata": {},
     "output_type": "execute_result"
    }
   ],
   "source": [
    "sp_df = spark.read.csv(\"winequality.csv\", header=True, inferSchema=True)\n",
    "sp_df"
   ]
  },
  {
   "cell_type": "code",
   "execution_count": 19,
   "id": "75afc2cd-3703-4394-82d2-5ad290135bdd",
   "metadata": {},
   "outputs": [
    {
     "name": "stdout",
     "output_type": "stream",
     "text": [
      "+-------------+----------------+---------+--------------------+\n",
      "|fixed acidity|volatile acidity|sulphates|total sulfur dioxide|\n",
      "+-------------+----------------+---------+--------------------+\n",
      "|          7.4|             0.7|     0.56|                34.0|\n",
      "|          7.8|            0.88|     0.68|                67.0|\n",
      "|          7.8|            0.76|     0.65|                54.0|\n",
      "|         11.2|            0.28|     0.58|                60.0|\n",
      "|          7.4|             0.7|     0.56|                34.0|\n",
      "|          7.4|            0.66|     0.56|                40.0|\n",
      "|          7.9|             0.6|     0.46|                59.0|\n",
      "|          7.3|            0.65|     0.47|                21.0|\n",
      "|          7.8|            0.58|     0.57|                18.0|\n",
      "|          7.5|             0.5|      0.8|               102.0|\n",
      "|          6.7|            0.58|     0.54|                65.0|\n",
      "|          7.5|             0.5|      0.8|               102.0|\n",
      "|          5.6|           0.615|     0.52|                59.0|\n",
      "|          7.8|            0.61|     1.56|                29.0|\n",
      "|          8.9|            0.62|     0.88|               145.0|\n",
      "|          8.9|            0.62|     0.93|               148.0|\n",
      "|          8.5|            0.28|     0.75|               103.0|\n",
      "|          8.1|            0.56|     1.28|                56.0|\n",
      "|          7.4|            0.59|      0.5|                29.0|\n",
      "|          7.9|            0.32|     1.08|                56.0|\n",
      "+-------------+----------------+---------+--------------------+\n",
      "only showing top 20 rows\n",
      "\n"
     ]
    }
   ],
   "source": [
    "sp_df = sp_df.select(\"fixed acidity\",\"volatile acidity\",\"sulphates\",\"total sulfur dioxide\")\n",
    "sp_df.show()"
   ]
  },
  {
   "cell_type": "code",
   "execution_count": 29,
   "id": "120e36c4-117e-48c7-b0a4-4bfc08e14e60",
   "metadata": {},
   "outputs": [],
   "source": [
    "sp_df.registerTempTable(\"veri_db\")       # Verileri veritabanına kaydediyoruz.\n",
    "                                         # We save the data to the database."
   ]
  },
  {
   "cell_type": "code",
   "execution_count": 30,
   "id": "74c9786f-d62d-46fa-af17-6e57a24d6b76",
   "metadata": {},
   "outputs": [
    {
     "name": "stdout",
     "output_type": "stream",
     "text": [
      "+---------+\n",
      "|namespace|\n",
      "+---------+\n",
      "|  default|\n",
      "+---------+\n",
      "\n"
     ]
    }
   ],
   "source": [
    "spark.sql(\"show databases\").show()     # Veritabanlarını göstermek için \"sql\" methodunu kullanıyoruz.\n",
    "                                       # # We use the \"sql\" method to show databases."
   ]
  },
  {
   "cell_type": "code",
   "execution_count": 31,
   "id": "f44012af-d670-44b2-832e-8d70960f28b4",
   "metadata": {},
   "outputs": [
    {
     "name": "stdout",
     "output_type": "stream",
     "text": [
      "+--------+--------------------+-----------+\n",
      "|database|           tableName|isTemporary|\n",
      "+--------+--------------------+-----------+\n",
      "|        |             veri_db|       true|\n",
      "|        |veri_tablosu_veri...|       true|\n",
      "+--------+--------------------+-----------+\n",
      "\n"
     ]
    }
   ],
   "source": [
    "spark.sql(\"show tables\").show()   # Tablolar görüntüleniyor.\n",
    "                                  # Tables are displayed."
   ]
  },
  {
   "cell_type": "code",
   "execution_count": 37,
   "id": "e56bf951-f6cb-4cdd-a721-2409e0c5e953",
   "metadata": {},
   "outputs": [
    {
     "name": "stdout",
     "output_type": "stream",
     "text": [
      "+---------+\n",
      "|sulphates|\n",
      "+---------+\n",
      "|     0.56|\n",
      "|     0.68|\n",
      "|     0.65|\n",
      "|     0.58|\n",
      "|     0.56|\n",
      "|     0.56|\n",
      "|     0.46|\n",
      "|     0.47|\n",
      "|     0.57|\n",
      "|      0.8|\n",
      "|     0.54|\n",
      "|      0.8|\n",
      "|     0.52|\n",
      "|     1.56|\n",
      "|     0.88|\n",
      "|     0.93|\n",
      "|     0.75|\n",
      "|     1.28|\n",
      "|      0.5|\n",
      "|     1.08|\n",
      "+---------+\n",
      "only showing top 20 rows\n",
      "\n"
     ]
    }
   ],
   "source": [
    "spark.sql(\"Select sulphates from veri_db\").show()"
   ]
  },
  {
   "cell_type": "code",
   "execution_count": null,
   "id": "080716ba-95a8-4a91-97ad-c6f57e556631",
   "metadata": {},
   "outputs": [],
   "source": [
    "spark.sql(\"Select X (2 sınıflı değişken(2-class variable or more)), mean(sulphates) from veri_db group by X\")   \n",
    "\n",
    "# Eğer groupby methodunu çalıştırılacaksa bu yaklaşımda sql komutu oluşturulur.\n",
    "\n",
    "# If the groupby method is to be run, the sql command is created in this approach."
   ]
  }
 ],
 "metadata": {
  "kernelspec": {
   "display_name": "Python 3",
   "language": "python",
   "name": "python3"
  },
  "language_info": {
   "codemirror_mode": {
    "name": "ipython",
    "version": 3
   },
   "file_extension": ".py",
   "mimetype": "text/x-python",
   "name": "python",
   "nbconvert_exporter": "python",
   "pygments_lexer": "ipython3",
   "version": "3.8.8"
  }
 },
 "nbformat": 4,
 "nbformat_minor": 5
}
