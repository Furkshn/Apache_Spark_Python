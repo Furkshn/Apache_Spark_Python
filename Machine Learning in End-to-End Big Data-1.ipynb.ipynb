{
 "cells": [
  {
   "cell_type": "markdown",
   "id": "a3228b03-fa60-4b87-a555-3c18c5510aff",
   "metadata": {},
   "source": [
    "# \n",
    "# Machine Learning in End-to-End Big Data (Uçtan Uca Büyük Veride Makine Öğrenmesi)"
   ]
  },
  {
   "cell_type": "code",
   "execution_count": 1,
   "id": "088d3f8c-f345-41d3-8e40-177d8632ffb2",
   "metadata": {},
   "outputs": [],
   "source": [
    "import findspark as fs    \n",
    "\n",
    "fs.init(\"C:\\spark\")   # Starting Spark "
   ]
  },
  {
   "cell_type": "code",
   "execution_count": 2,
   "id": "605e8e3a-bdd2-4f04-b333-045ca2c51653",
   "metadata": {},
   "outputs": [],
   "source": [
    "import matplotlib.pyplot as splt     # Getting data visualization libraries\n",
    "import seaborn as sns"
   ]
  },
  {
   "cell_type": "code",
   "execution_count": 3,
   "id": "e010cb0a-1387-4946-bb3c-fe84b270d941",
   "metadata": {},
   "outputs": [
    {
     "data": {
      "text/html": [
       "\n",
       "        <div>\n",
       "            <p><b>SparkContext</b></p>\n",
       "\n",
       "            <p><a href=\"http://DESKTOP-HC9DSF0:4041\">Spark UI</a></p>\n",
       "\n",
       "            <dl>\n",
       "              <dt>Version</dt>\n",
       "                <dd><code>v3.1.2</code></dd>\n",
       "              <dt>Master</dt>\n",
       "                <dd><code>local</code></dd>\n",
       "              <dt>AppName</dt>\n",
       "                <dd><code>machine_learning_on_spark</code></dd>\n",
       "            </dl>\n",
       "        </div>\n",
       "        "
      ],
      "text/plain": [
       "<SparkContext master=local appName=machine_learning_on_spark>"
      ]
     },
     "execution_count": 3,
     "metadata": {},
     "output_type": "execute_result"
    }
   ],
   "source": [
    "import pyspark\n",
    "from pyspark.sql import SparkSession\n",
    "from pyspark.conf import SparkConf          # Generating Spark Session to make process\n",
    "from pyspark import SparkContext\n",
    "\n",
    "\n",
    "spark = SparkSession.builder.master(\"local\").appName(\"machine_learning_on_spark\").config(\"spark.executer.memory\",\"16gb\").getOrCreate()\n",
    "\n",
    "start_spark = spark.sparkContext\n",
    "start_spark\n"
   ]
  },
  {
   "cell_type": "markdown",
   "id": "b73c06eb-c95f-4913-b7ca-fbc7f648be74",
   "metadata": {},
   "source": [
    "# "
   ]
  },
  {
   "cell_type": "code",
   "execution_count": 12,
   "id": "7e6846e6-65d5-4ff6-901f-9d8357e9e0ab",
   "metadata": {},
   "outputs": [
    {
     "data": {
      "text/plain": [
       "DataFrame[_c0: int, Names: string, Age: double, Total_Purchase: double, Account_Manager: int, Years: double, Num_Sites: double, Churn: int]"
      ]
     },
     "execution_count": 12,
     "metadata": {},
     "output_type": "execute_result"
    }
   ],
   "source": [
    "spark_df = spark.read.csv(\"churn.csv\", header=True, inferSchema=True, sep = \",\")   # Reading Dataset\n",
    "\n",
    "spark_df.cache()"
   ]
  },
  {
   "cell_type": "code",
   "execution_count": 13,
   "id": "1d7a17db-f2ee-400f-b022-dbb2861d8a5a",
   "metadata": {},
   "outputs": [
    {
     "name": "stdout",
     "output_type": "stream",
     "text": [
      "root\n",
      " |-- _c0: integer (nullable = true)\n",
      " |-- Names: string (nullable = true)\n",
      " |-- Age: double (nullable = true)\n",
      " |-- Total_Purchase: double (nullable = true)\n",
      " |-- Account_Manager: integer (nullable = true)\n",
      " |-- Years: double (nullable = true)\n",
      " |-- Num_Sites: double (nullable = true)\n",
      " |-- Churn: integer (nullable = true)\n",
      "\n"
     ]
    }
   ],
   "source": [
    "spark_df.printSchema()    # Types of variables"
   ]
  },
  {
   "cell_type": "code",
   "execution_count": 14,
   "id": "b93fe61b-277b-439d-b47d-599693d1f544",
   "metadata": {},
   "outputs": [
    {
     "name": "stdout",
     "output_type": "stream",
     "text": [
      "+---+-------------------+----+--------------+---------------+-----+---------+-----+\n",
      "|_c0|              Names| Age|Total_Purchase|Account_Manager|Years|Num_Sites|Churn|\n",
      "+---+-------------------+----+--------------+---------------+-----+---------+-----+\n",
      "|  0|   Cameron Williams|42.0|       11066.8|              0| 7.22|      8.0|    1|\n",
      "|  1|      Kevin Mueller|41.0|      11916.22|              0|  6.5|     11.0|    1|\n",
      "|  2|        Eric Lozano|38.0|      12884.75|              0| 6.67|     12.0|    1|\n",
      "|  3|      Phillip White|42.0|       8010.76|              0| 6.71|     10.0|    1|\n",
      "|  4|     Cynthia Norton|37.0|       9191.58|              0| 5.56|      9.0|    1|\n",
      "|  5|   Jessica Williams|48.0|      10356.02|              0| 5.12|      8.0|    1|\n",
      "|  6|        Eric Butler|44.0|      11331.58|              1| 5.23|     11.0|    1|\n",
      "|  7|      Zachary Walsh|32.0|       9885.12|              1| 6.92|      9.0|    1|\n",
      "|  8|        Ashlee Carr|43.0|       14062.6|              1| 5.46|     11.0|    1|\n",
      "|  9|     Jennifer Lynch|40.0|       8066.94|              1| 7.11|     11.0|    1|\n",
      "| 10|       Paula Harris|30.0|      11575.37|              1| 5.22|      8.0|    1|\n",
      "| 11|     Bruce Phillips|45.0|       8771.02|              1| 6.64|     11.0|    1|\n",
      "| 12|       Craig Garner|45.0|       8988.67|              1| 4.84|     11.0|    1|\n",
      "| 13|       Nicole Olson|40.0|       8283.32|              1|  5.1|     13.0|    1|\n",
      "| 14|     Harold Griffin|41.0|       6569.87|              1|  4.3|     11.0|    1|\n",
      "| 15|       James Wright|38.0|      10494.82|              1| 6.81|     12.0|    1|\n",
      "| 16|      Doris Wilkins|45.0|       8213.41|              1| 7.35|     11.0|    1|\n",
      "| 17|Katherine Carpenter|43.0|      11226.88|              0| 8.08|     12.0|    1|\n",
      "| 18|     Lindsay Martin|53.0|       5515.09|              0| 6.85|      8.0|    1|\n",
      "| 19|        Kathy Curry|46.0|        8046.4|              1| 5.69|      8.0|    1|\n",
      "+---+-------------------+----+--------------+---------------+-----+---------+-----+\n",
      "only showing top 20 rows\n",
      "\n"
     ]
    }
   ],
   "source": [
    "spark_df.show()"
   ]
  },
  {
   "cell_type": "markdown",
   "id": "307fd3ff-972e-4146-9268-96fd06c52c84",
   "metadata": {},
   "source": [
    "# "
   ]
  },
  {
   "cell_type": "code",
   "execution_count": 15,
   "id": "ffca9c84-2407-485e-a821-96be4d56e693",
   "metadata": {},
   "outputs": [],
   "source": [
    "spark_df = spark_df.toDF(*[c.lower() for c in spark_df.columns])     # The process of converting variables to lowercase"
   ]
  },
  {
   "cell_type": "code",
   "execution_count": 16,
   "id": "423a2f07-7c55-4304-831e-5032bf9a651d",
   "metadata": {},
   "outputs": [
    {
     "name": "stdout",
     "output_type": "stream",
     "text": [
      "+---+----------------+----+--------------+---------------+-----+---------+-----+\n",
      "|_c0|           names| age|total_purchase|account_manager|years|num_sites|churn|\n",
      "+---+----------------+----+--------------+---------------+-----+---------+-----+\n",
      "|  0|Cameron Williams|42.0|       11066.8|              0| 7.22|      8.0|    1|\n",
      "|  1|   Kevin Mueller|41.0|      11916.22|              0|  6.5|     11.0|    1|\n",
      "|  2|     Eric Lozano|38.0|      12884.75|              0| 6.67|     12.0|    1|\n",
      "|  3|   Phillip White|42.0|       8010.76|              0| 6.71|     10.0|    1|\n",
      "|  4|  Cynthia Norton|37.0|       9191.58|              0| 5.56|      9.0|    1|\n",
      "+---+----------------+----+--------------+---------------+-----+---------+-----+\n",
      "only showing top 5 rows\n",
      "\n"
     ]
    }
   ],
   "source": [
    "spark_df.show(5)"
   ]
  },
  {
   "cell_type": "code",
   "execution_count": 17,
   "id": "7761ef40-421a-48cd-bb0b-6f9b8c6fc5e0",
   "metadata": {},
   "outputs": [],
   "source": [
    "# df.columns = map(str.lower, df.columns)   # Other way to make lowercase process"
   ]
  },
  {
   "cell_type": "markdown",
   "id": "66951f12-e012-4326-acbf-cfdfc02e4c01",
   "metadata": {},
   "source": [
    "# "
   ]
  },
  {
   "cell_type": "code",
   "execution_count": 18,
   "id": "3ad7d7cc-6d5d-4583-bb29-66982b68e157",
   "metadata": {},
   "outputs": [
    {
     "name": "stdout",
     "output_type": "stream",
     "text": [
      "+-----+----------------+----+--------------+---------------+-----+---------+-----+\n",
      "|index|           names| age|total_purchase|account_manager|years|num_sites|churn|\n",
      "+-----+----------------+----+--------------+---------------+-----+---------+-----+\n",
      "|    0|Cameron Williams|42.0|       11066.8|              0| 7.22|      8.0|    1|\n",
      "|    1|   Kevin Mueller|41.0|      11916.22|              0|  6.5|     11.0|    1|\n",
      "|    2|     Eric Lozano|38.0|      12884.75|              0| 6.67|     12.0|    1|\n",
      "|    3|   Phillip White|42.0|       8010.76|              0| 6.71|     10.0|    1|\n",
      "+-----+----------------+----+--------------+---------------+-----+---------+-----+\n",
      "only showing top 4 rows\n",
      "\n"
     ]
    }
   ],
   "source": [
    "spark_df = spark_df.withColumnRenamed(\"_c0\",\"index\")    # Rename variable name\n",
    "\n",
    "spark_df.show(4)"
   ]
  },
  {
   "cell_type": "code",
   "execution_count": 19,
   "id": "36e60102-0ae6-4d6a-87a7-c54238dc6a50",
   "metadata": {},
   "outputs": [
    {
     "data": {
      "text/plain": [
       "900"
      ]
     },
     "execution_count": 19,
     "metadata": {},
     "output_type": "execute_result"
    }
   ],
   "source": [
    "spark_df.count()    # All data number in Spark dataset"
   ]
  },
  {
   "cell_type": "code",
   "execution_count": 20,
   "id": "4da74f0b-5971-40b3-ad04-95866d224d0e",
   "metadata": {},
   "outputs": [
    {
     "data": {
      "text/plain": [
       "['index',\n",
       " 'names',\n",
       " 'age',\n",
       " 'total_purchase',\n",
       " 'account_manager',\n",
       " 'years',\n",
       " 'num_sites',\n",
       " 'churn']"
      ]
     },
     "execution_count": 20,
     "metadata": {},
     "output_type": "execute_result"
    }
   ],
   "source": [
    "spark_df.columns    # Variable name in Dataset"
   ]
  },
  {
   "cell_type": "code",
   "execution_count": 22,
   "id": "62f92ee3-c3f0-4e5c-a103-8bc23d87891f",
   "metadata": {},
   "outputs": [
    {
     "data": {
      "text/plain": [
       "900"
      ]
     },
     "execution_count": 22,
     "metadata": {},
     "output_type": "execute_result"
    }
   ],
   "source": [
    "spark_df.distinct().count()     # Unique data count"
   ]
  },
  {
   "cell_type": "code",
   "execution_count": 23,
   "id": "fe5f8849-a74a-4c44-a3f8-85e375a28ff0",
   "metadata": {},
   "outputs": [
    {
     "data": {
      "text/plain": [
       "899"
      ]
     },
     "execution_count": 23,
     "metadata": {},
     "output_type": "execute_result"
    }
   ],
   "source": [
    "spark_df.select(\"names\").distinct().count()    # Unique data count in names column"
   ]
  },
  {
   "cell_type": "code",
   "execution_count": 25,
   "id": "d12c854d-730a-4758-813e-108449bac999",
   "metadata": {},
   "outputs": [
    {
     "name": "stdout",
     "output_type": "stream",
     "text": [
      "+----------------+-----+\n",
      "|           names|count|\n",
      "+----------------+-----+\n",
      "|   Jennifer Wood|    2|\n",
      "|   David Compton|    1|\n",
      "|Patrick Robinson|    1|\n",
      "|   Chelsea Marsh|    1|\n",
      "|     John Barber|    1|\n",
      "+----------------+-----+\n",
      "only showing top 5 rows\n",
      "\n"
     ]
    }
   ],
   "source": [
    "spark_df.groupby(\"names\").count().sort(\"count\", ascending=False).show(5) \n",
    "\n",
    "# There are 2 Jennifers. We'll see if there are other people with the same name."
   ]
  },
  {
   "cell_type": "code",
   "execution_count": 26,
   "id": "69183014-8081-4f26-a42c-602edb4cf1bf",
   "metadata": {},
   "outputs": [
    {
     "name": "stdout",
     "output_type": "stream",
     "text": [
      "+-----+-------------+----+--------------+---------------+-----+---------+-----+\n",
      "|index|        names| age|total_purchase|account_manager|years|num_sites|churn|\n",
      "+-----+-------------+----+--------------+---------------+-----+---------+-----+\n",
      "|   22|Jennifer Wood|35.0|       9381.12|              1| 6.78|     11.0|    1|\n",
      "|  439|Jennifer Wood|48.0|      11585.16|              0| 4.61|      9.0|    0|\n",
      "+-----+-------------+----+--------------+---------------+-----+---------+-----+\n",
      "\n"
     ]
    }
   ],
   "source": [
    "spark_df.filter(spark_df.names == \"Jennifer Wood\").show()     # Two different people with the same name."
   ]
  },
  {
   "cell_type": "code",
   "execution_count": null,
   "id": "456eb4a0-3aa3-4393-8415-c092865e7493",
   "metadata": {},
   "outputs": [],
   "source": []
  }
 ],
 "metadata": {
  "kernelspec": {
   "display_name": "Python 3",
   "language": "python",
   "name": "python3"
  },
  "language_info": {
   "codemirror_mode": {
    "name": "ipython",
    "version": 3
   },
   "file_extension": ".py",
   "mimetype": "text/x-python",
   "name": "python",
   "nbconvert_exporter": "python",
   "pygments_lexer": "ipython3",
   "version": "3.8.8"
  }
 },
 "nbformat": 4,
 "nbformat_minor": 5
}
